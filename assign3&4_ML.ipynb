{
  "nbformat": 4,
  "nbformat_minor": 0,
  "metadata": {
    "colab": {
      "provenance": [],
      "authorship_tag": "ABX9TyMDWjgCYb/MChRLh04MGNe5",
      "include_colab_link": true
    },
    "kernelspec": {
      "name": "python3",
      "display_name": "Python 3"
    },
    "language_info": {
      "name": "python"
    }
  },
  "cells": [
    {
      "cell_type": "markdown",
      "metadata": {
        "id": "view-in-github",
        "colab_type": "text"
      },
      "source": [
        "<a href=\"https://colab.research.google.com/github/drshn-k/201-assign1/blob/main/assign3%264_ML.ipynb\" target=\"_parent\"><img src=\"https://colab.research.google.com/assets/colab-badge.svg\" alt=\"Open In Colab\"/></a>"
      ]
    },
    {
      "cell_type": "code",
      "source": [
        "import pandas as pd\n",
        "import numpy as np\n",
        "import matplotlib.pyplot as plt\n",
        "import seaborn as sns\n",
        "%matplotlib inline"
      ],
      "metadata": {
        "id": "t66pTeKWxrfc"
      },
      "execution_count": 1,
      "outputs": []
    },
    {
      "cell_type": "code",
      "source": [
        "data = pd.read_csv(\"/content/Admission_Predict - Admission_Predict.csv\")"
      ],
      "metadata": {
        "id": "R9SdTLvbxv8j"
      },
      "execution_count": 2,
      "outputs": []
    },
    {
      "cell_type": "code",
      "source": [
        "features_cols = ['Serial No.', 'GRE Score', 'TOEFL Score', 'University Rating', 'SOP','LOR', 'CGPA', 'Research']\n",
        "X = data[features_cols]\n",
        "\n",
        "data['Chance of Admit'] = np.where(data['Chance of Admit']>=0.9,1,0)\n",
        "print(data['Chance of Admit'].head())\n",
        "Y = data['Chance of Admit']"
      ],
      "metadata": {
        "colab": {
          "base_uri": "https://localhost:8080/"
        },
        "id": "ct5UJCGZx6Jn",
        "outputId": "f8e514db-0197-487b-8a00-32966244ddf9"
      },
      "execution_count": 7,
      "outputs": [
        {
          "output_type": "stream",
          "name": "stdout",
          "text": [
            "0    1\n",
            "1    0\n",
            "2    0\n",
            "3    0\n",
            "4    0\n",
            "Name: Chance of Admit, dtype: int64\n"
          ]
        }
      ]
    },
    {
      "cell_type": "code",
      "source": [
        "from sklearn.tree import DecisionTreeClassifier\n",
        "from sklearn.model_selection import cross_val_score\n",
        "from sklearn.model_selection import train_test_split\n",
        "from sklearn import metrics\n",
        "\n",
        "x_train, x_test, y_train, y_test = train_test_split(X, Y, test_size= 0.3)\n",
        "\n",
        "clf = DecisionTreeClassifier()\n",
        "clf = clf.fit(x_train, y_train)\n",
        "y_pred = clf.predict(x_test)\n",
        "Y_train_pred = clf.predict(x_train)\n",
        "print(\"Accuracy:\",metrics.accuracy_score(y_train, Y_train_pred))#training accuracy\n",
        "print(\"Accuracy:\",metrics.accuracy_score(y_test, y_pred))#testing accuracy\n",
        "\n",
        "clf1 = DecisionTreeClassifier()\n",
        "print(cross_val_score(clf1, x_train, y_train, cv=10, scoring='accuracy').mean())\n",
        "\n",
        "# assign 4\n",
        "# from sklearn.naive_bayes import GaussianNB\n",
        "# from sklearn.model_selection import cross_val_score\n",
        "# from sklearn.model_selection import train_test_split\n",
        "# from sklearn import metrics\n",
        "\n",
        "# x_train, x_test, y_train, y_test = train_test_split(X, Y, test_size= 0.3)\n",
        "\n",
        "# clf = GaussianNB()\n",
        "# clf = clf.fit(x_train, y_train)\n",
        "# y_pred = clf.predict(x_test)\n",
        "# Y_train_pred = clf.predict(x_train)\n",
        "# print(\"Accuracy:\",metrics.accuracy_score(y_train, Y_train_pred))#training accuracy\n",
        "# print(\"Accuracy:\",metrics.accuracy_score(y_test, y_pred))#testing accuracy\n",
        "\n",
        "# clf1 = GaussianNB()\n",
        "# print(cross_val_score(clf1, x_train, y_train, cv=10, scoring='accuracy').mean())"
      ],
      "metadata": {
        "colab": {
          "base_uri": "https://localhost:8080/"
        },
        "id": "a03bS6dS0bUp",
        "outputId": "1350744f-4d8e-419b-a5c7-392a763f868e"
      },
      "execution_count": 12,
      "outputs": [
        {
          "output_type": "stream",
          "name": "stdout",
          "text": [
            "Accuracy: 1.0\n",
            "Accuracy: 0.9583333333333334\n",
            "0.9535714285714285\n"
          ]
        }
      ]
    },
    {
      "cell_type": "code",
      "source": [
        "from sklearn import tree\n",
        "tree.plot_tree(clf)"
      ],
      "metadata": {
        "colab": {
          "base_uri": "https://localhost:8080/",
          "height": 873
        },
        "id": "vzLMQfYH1F2g",
        "outputId": "d61b1bca-9cb7-4ba5-84d1-61c9054eae20"
      },
      "execution_count": 13,
      "outputs": [
        {
          "output_type": "execute_result",
          "data": {
            "text/plain": [
              "[Text(0.47058823529411764, 0.9285714285714286, 'X[6] <= 9.235\\ngini = 0.24\\nsamples = 280\\nvalue = [241, 39]'),\n",
              " Text(0.23529411764705882, 0.7857142857142857, 'X[2] <= 117.5\\ngini = 0.025\\nsamples = 239\\nvalue = [236, 3]'),\n",
              " Text(0.11764705882352941, 0.6428571428571429, 'X[6] <= 9.155\\ngini = 0.008\\nsamples = 236\\nvalue = [235, 1]'),\n",
              " Text(0.058823529411764705, 0.5, 'gini = 0.0\\nsamples = 228\\nvalue = [228, 0]'),\n",
              " Text(0.17647058823529413, 0.5, 'X[6] <= 9.165\\ngini = 0.219\\nsamples = 8\\nvalue = [7, 1]'),\n",
              " Text(0.11764705882352941, 0.35714285714285715, 'X[0] <= 130.5\\ngini = 0.5\\nsamples = 2\\nvalue = [1, 1]'),\n",
              " Text(0.058823529411764705, 0.21428571428571427, 'gini = 0.0\\nsamples = 1\\nvalue = [1, 0]'),\n",
              " Text(0.17647058823529413, 0.21428571428571427, 'gini = 0.0\\nsamples = 1\\nvalue = [0, 1]'),\n",
              " Text(0.23529411764705882, 0.35714285714285715, 'gini = 0.0\\nsamples = 6\\nvalue = [6, 0]'),\n",
              " Text(0.35294117647058826, 0.6428571428571429, 'X[4] <= 4.25\\ngini = 0.444\\nsamples = 3\\nvalue = [1, 2]'),\n",
              " Text(0.29411764705882354, 0.5, 'gini = 0.0\\nsamples = 1\\nvalue = [1, 0]'),\n",
              " Text(0.4117647058823529, 0.5, 'gini = 0.0\\nsamples = 2\\nvalue = [0, 2]'),\n",
              " Text(0.7058823529411765, 0.7857142857142857, 'X[6] <= 9.33\\ngini = 0.214\\nsamples = 41\\nvalue = [5, 36]'),\n",
              " Text(0.5882352941176471, 0.6428571428571429, 'X[6] <= 9.27\\ngini = 0.5\\nsamples = 6\\nvalue = [3, 3]'),\n",
              " Text(0.5294117647058824, 0.5, 'gini = 0.0\\nsamples = 3\\nvalue = [0, 3]'),\n",
              " Text(0.6470588235294118, 0.5, 'gini = 0.0\\nsamples = 3\\nvalue = [3, 0]'),\n",
              " Text(0.8235294117647058, 0.6428571428571429, 'X[7] <= 0.5\\ngini = 0.108\\nsamples = 35\\nvalue = [2, 33]'),\n",
              " Text(0.7647058823529411, 0.5, 'gini = 0.0\\nsamples = 1\\nvalue = [1, 0]'),\n",
              " Text(0.8823529411764706, 0.5, 'X[2] <= 113.5\\ngini = 0.057\\nsamples = 34\\nvalue = [1, 33]'),\n",
              " Text(0.8235294117647058, 0.35714285714285715, 'X[2] <= 112.5\\ngini = 0.32\\nsamples = 5\\nvalue = [1, 4]'),\n",
              " Text(0.7647058823529411, 0.21428571428571427, 'gini = 0.0\\nsamples = 3\\nvalue = [0, 3]'),\n",
              " Text(0.8823529411764706, 0.21428571428571427, 'X[5] <= 4.25\\ngini = 0.5\\nsamples = 2\\nvalue = [1, 1]'),\n",
              " Text(0.8235294117647058, 0.07142857142857142, 'gini = 0.0\\nsamples = 1\\nvalue = [0, 1]'),\n",
              " Text(0.9411764705882353, 0.07142857142857142, 'gini = 0.0\\nsamples = 1\\nvalue = [1, 0]'),\n",
              " Text(0.9411764705882353, 0.35714285714285715, 'gini = 0.0\\nsamples = 29\\nvalue = [0, 29]')]"
            ]
          },
          "metadata": {},
          "execution_count": 13
        },
        {
          "output_type": "display_data",
          "data": {
            "text/plain": [
              "<Figure size 432x288 with 1 Axes>"
            ],
            "image/png": "[encoded data removed]"
          },
          "metadata": {
            "needs_background": "light"
          }
        }
      ]
    }
  ]
}